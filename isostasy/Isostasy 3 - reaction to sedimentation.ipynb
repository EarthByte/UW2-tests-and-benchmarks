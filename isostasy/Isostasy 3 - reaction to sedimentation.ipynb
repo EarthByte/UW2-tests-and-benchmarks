{
 "cells": [
  {
   "cell_type": "markdown",
   "metadata": {},
   "source": [
    "# Testing isostatic boundary conditions in UW2\n",
    "\n",
    "This is a check to make sure UW2's pressure boundary condition properly works.\n",
    "\n",
    "The setup is:\n",
    "\n",
    "     <--------- 100 km ------------>\n",
    "    _________________________________\n",
    "    |                               |  ^\n",
    "    |                               |  |\n",
    "    |     compressible air          |  50 km \n",
    "    |        1 kg.m^-3              |  |\n",
    "    |                               |  | \n",
    "    |_______________________________|  v \n",
    "    |        crust                  |  ^ \n",
    "    |        500 kg.m^-3            |  25 km \n",
    "    |_______________________________|  v \n",
    "    |        mantle                 |  ^ \n",
    "    |        1000 kg.m^-3           |  25 km \n",
    "    |_______________________________|  v \n",
    "\n",
    "Now with sedimentation! Sedimentation starts at 0 km, so we should expect\n",
    "that the mantle level stays at approximately 25 km thick the whole time,\n",
    "even as the entire crust is replaced\n",
    "\n",
    "Otherwise, same as before:\n",
    "We pull each vertical wall at 1 cm/yr (total extension is 2 cm/yr)\n",
    "The top wall has a free slip boundary (no air can flow in or out of the top)\n",
    "The bottom wall as a pressure boundary condition\n",
    "\n",
    "Note: the model does encounter some velocity instabilities, but broadly seems to be correct.\n",
    "With higher resolution, or smaller timesteps, it might be happier"
   ]
  },
  {
   "cell_type": "code",
   "execution_count": null,
   "metadata": {},
   "outputs": [],
   "source": [
    "import UWGeodynamics as GEO\n",
    "from UWGeodynamics.surfaceProcesses import SedimentationThreshold\n",
    "import numpy as np"
   ]
  },
  {
   "cell_type": "code",
   "execution_count": null,
   "metadata": {},
   "outputs": [],
   "source": [
    "u = GEO.UnitRegistry\n",
    "GEO.rcParams['solver'] = \"mumps\"\n",
    "GEO.rcParams[\"surface.pressure.normalization\"] = True\n",
    "GEO.rcParams[\"nonlinear.tolerance\"] = 1e-3\n",
    "GEO.rcParams[\"initial.nonlinear.tolerance\"] = 1e-3\n",
    "GEO.rcParams[\"minimum.viscosity\"] = 1e18 * u.pascal * u.second\n",
    "GEO.rcParams[\"maximum.viscosity\"] = 1e24 * u.pascal * u.second\n",
    "GEO.rcParams[\"output.directory\"] = \"simple_isos_3\""
   ]
  },
  {
   "cell_type": "code",
   "execution_count": null,
   "metadata": {},
   "outputs": [],
   "source": [
    "# Characteristic values of the system\n",
    "half_rate = 1.0 * u.centimeter / u.year\n",
    "model_length = 100e3 * u.meter\n",
    "model_height = 100e3 * u.meter\n",
    "refViscosity = 1e22 * u.pascal * u.second\n",
    "bodyforce = 500 * u.kilogram / u.metre**3 * 9.81 * u.meter / u.second**2\n",
    "\n",
    "KL = model_length\n",
    "Kt = KL / half_rate\n",
    "KM = bodyforce * KL**2 * Kt**2\n",
    "\n",
    "GEO.scaling_coefficients[\"[length]\"] = KL\n",
    "GEO.scaling_coefficients[\"[time]\"] = Kt\n",
    "GEO.scaling_coefficients[\"[mass]\"]= KM"
   ]
  },
  {
   "cell_type": "code",
   "execution_count": null,
   "metadata": {},
   "outputs": [],
   "source": [
    "Model = GEO.Model(elementRes=(100,100), \n",
    "                  minCoord=(-50 * u.kilometer, -50 * u.kilometer),\n",
    "                  maxCoord=( 50 * u.kilometer,  50 * u.kilometer))"
   ]
  },
  {
   "cell_type": "code",
   "execution_count": null,
   "metadata": {},
   "outputs": [],
   "source": [
    "air = Model.add_material(name=\"air\", shape=GEO.shapes.Layer2D(top=Model.top, bottom=0.0))\n",
    "uc =  Model.add_material(name=\"crust\",  shape=GEO.shapes.Layer2D(top=air.bottom, bottom=-25*u.kilometer))\n",
    "mantle = Model.add_material(name=\"mantle\",  shape=GEO.shapes.Layer2D(top=uc.bottom, bottom=Model.bottom))\n",
    "sediment          = Model.add_material(name=\"sediment\")\n",
    "\n",
    "air.density       =    1. * u.kilogram / u.metre**3\n",
    "sediment.density  =  500. * u.kilogram / u.metre**3\n",
    "uc.density        =  500. * u.kilogram / u.metre**3\n",
    "mantle.density    = 1000. * u.kilogram / u.metre**3\n",
    "\n",
    "\n",
    "\n",
    "air.viscosity      = 1e18 * u.pascal * u.second\n",
    "uc.viscosity       = 1e21 * u.pascal * u.second  # make this slightly higher so UW has something to do\n",
    "sediment.viscosity       = 1e21 * u.pascal * u.second  # make this slightly higher so UW has something to do\n",
    "mantle.viscosity   = 1e20 * u.pascal * u.second\n",
    "\n",
    "\n",
    "# we need to make the air compressible, so we can put a free slip condition on the top\n",
    "# of the model\n",
    "air.compressibility = 1e3  # Not sure what's a good value"
   ]
  },
  {
   "cell_type": "code",
   "execution_count": null,
   "metadata": {},
   "outputs": [],
   "source": [
    "Model.surfaceProcesses = GEO.surfaceProcesses.SedimentationThreshold(air=[air], sediment=[sediment], threshold=0.*u.kilometer)"
   ]
  },
  {
   "cell_type": "code",
   "execution_count": null,
   "metadata": {},
   "outputs": [],
   "source": [
    "# This is where isostasy is imposed. We first calculate the lithostatic pressure along the entire\n",
    "# bottom of the model. \n",
    "P, bottomPress = Model.get_lithostatic_pressureField()\n",
    "# Then, since the model is laterally homogenous, we average it, and put it into megapascals\n",
    "bottomPress = GEO.Dimensionalize(np.average(bottomPress), u.megapascal)\n",
    "\n",
    "Model.set_velocityBCs(left=[-1.0 * u.centimetre / u.year,None], \n",
    "                      right=[1.0 * u.centimetre / u.year,None], \n",
    "                      top=[None, 0. * u.centimetre / u.year],  # notice the top is free slip\n",
    "                      # This is where the pressure boundary is applied.\n",
    "                      bottom=[None,bottomPress])"
   ]
  },
  {
   "cell_type": "code",
   "execution_count": null,
   "metadata": {},
   "outputs": [],
   "source": [
    "Model.init_model()\n",
    "Model.solve()\n",
    "\n",
    "Model.run_for(20e6* u.year, dt=10e3*u.years)"
   ]
  },
  {
   "cell_type": "code",
   "execution_count": null,
   "metadata": {},
   "outputs": [],
   "source": []
  }
 ],
 "metadata": {
  "kernelspec": {
   "display_name": "Python 2",
   "language": "python",
   "name": "python2"
  },
  "language_info": {
   "codemirror_mode": {
    "name": "ipython",
    "version": 2
   },
   "file_extension": ".py",
   "mimetype": "text/x-python",
   "name": "python",
   "nbconvert_exporter": "python",
   "pygments_lexer": "ipython2",
   "version": "2.7.13"
  }
 },
 "nbformat": 4,
 "nbformat_minor": 2
}
